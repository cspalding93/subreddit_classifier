{
 "cells": [
  {
   "cell_type": "markdown",
   "metadata": {},
   "source": [
    "# Cleaning\n",
    "----------------"
   ]
  },
  {
   "cell_type": "code",
   "execution_count": 2,
   "metadata": {},
   "outputs": [],
   "source": [
    "# Imports\n",
    "\n",
    "import pandas as pd\n",
    "import numpy as np\n",
    "\n",
    "from nltk.tokenize import RegexpTokenizer\n"
   ]
  },
  {
   "cell_type": "code",
   "execution_count": 3,
   "metadata": {},
   "outputs": [],
   "source": [
    "# reading in the data\n",
    "diy = pd.read_csv('raw data/diy.csv')\n",
    "crafts = pd.read_csv('raw data/crafts.csv')"
   ]
  },
  {
   "cell_type": "code",
   "execution_count": 4,
   "metadata": {},
   "outputs": [
    {
     "name": "stdout",
     "output_type": "stream",
     "text": [
      "(7500, 4)\n",
      "(7500, 4)\n"
     ]
    }
   ],
   "source": [
    "# checking that they are the correct and expected shape\n",
    "print(diy.shape)\n",
    "print(crafts.shape)"
   ]
  },
  {
   "cell_type": "code",
   "execution_count": 5,
   "metadata": {},
   "outputs": [
    {
     "data": {
      "text/html": [
       "<div>\n",
       "<style scoped>\n",
       "    .dataframe tbody tr th:only-of-type {\n",
       "        vertical-align: middle;\n",
       "    }\n",
       "\n",
       "    .dataframe tbody tr th {\n",
       "        vertical-align: top;\n",
       "    }\n",
       "\n",
       "    .dataframe thead th {\n",
       "        text-align: right;\n",
       "    }\n",
       "</style>\n",
       "<table border=\"1\" class=\"dataframe\">\n",
       "  <thead>\n",
       "    <tr style=\"text-align: right;\">\n",
       "      <th></th>\n",
       "      <th>title</th>\n",
       "      <th>score</th>\n",
       "      <th>comms_num</th>\n",
       "      <th>body</th>\n",
       "    </tr>\n",
       "  </thead>\n",
       "  <tbody>\n",
       "    <tr>\n",
       "      <td>0</td>\n",
       "      <td>Badly damaged exterior wall studs, is this out...</td>\n",
       "      <td>2</td>\n",
       "      <td>0</td>\n",
       "      <td>[Pictures.](https://imgur.com/a/uafBlta) This ...</td>\n",
       "    </tr>\n",
       "    <tr>\n",
       "      <td>1</td>\n",
       "      <td>Need help removing a screw from the back of a ...</td>\n",
       "      <td>1</td>\n",
       "      <td>1</td>\n",
       "      <td>NaN</td>\n",
       "    </tr>\n",
       "    <tr>\n",
       "      <td>2</td>\n",
       "      <td>Add second post parallel to existing post</td>\n",
       "      <td>1</td>\n",
       "      <td>0</td>\n",
       "      <td>I have an idea to mount my HD antenna on a pol...</td>\n",
       "    </tr>\n",
       "    <tr>\n",
       "      <td>3</td>\n",
       "      <td>rtyuiooopfghjkl</td>\n",
       "      <td>1</td>\n",
       "      <td>0</td>\n",
       "      <td>NaN</td>\n",
       "    </tr>\n",
       "    <tr>\n",
       "      <td>4</td>\n",
       "      <td>DIY - recycled vinyl record clock</td>\n",
       "      <td>1</td>\n",
       "      <td>1</td>\n",
       "      <td>NaN</td>\n",
       "    </tr>\n",
       "    <tr>\n",
       "      <td>5</td>\n",
       "      <td>Easy &amp; fast friendship bracelets - Simple Frie...</td>\n",
       "      <td>1</td>\n",
       "      <td>1</td>\n",
       "      <td>NaN</td>\n",
       "    </tr>\n",
       "    <tr>\n",
       "      <td>6</td>\n",
       "      <td>How to Cleaning &amp; Scrub, 10 baht coin,King Ram...</td>\n",
       "      <td>1</td>\n",
       "      <td>0</td>\n",
       "      <td>NaN</td>\n",
       "    </tr>\n",
       "    <tr>\n",
       "      <td>7</td>\n",
       "      <td>Any idea whats going on with my basement? Rot?...</td>\n",
       "      <td>1</td>\n",
       "      <td>1</td>\n",
       "      <td>NaN</td>\n",
       "    </tr>\n",
       "    <tr>\n",
       "      <td>8</td>\n",
       "      <td>Need ideas for converting rain gutter into pla...</td>\n",
       "      <td>2</td>\n",
       "      <td>2</td>\n",
       "      <td>For reference, [photos can be found here](http...</td>\n",
       "    </tr>\n",
       "    <tr>\n",
       "      <td>9</td>\n",
       "      <td>Playing with rope</td>\n",
       "      <td>1</td>\n",
       "      <td>1</td>\n",
       "      <td>NaN</td>\n",
       "    </tr>\n",
       "  </tbody>\n",
       "</table>\n",
       "</div>"
      ],
      "text/plain": [
       "                                               title  score  comms_num  \\\n",
       "0  Badly damaged exterior wall studs, is this out...      2          0   \n",
       "1  Need help removing a screw from the back of a ...      1          1   \n",
       "2          Add second post parallel to existing post      1          0   \n",
       "3                                    rtyuiooopfghjkl      1          0   \n",
       "4                  DIY - recycled vinyl record clock      1          1   \n",
       "5  Easy & fast friendship bracelets - Simple Frie...      1          1   \n",
       "6  How to Cleaning & Scrub, 10 baht coin,King Ram...      1          0   \n",
       "7  Any idea whats going on with my basement? Rot?...      1          1   \n",
       "8  Need ideas for converting rain gutter into pla...      2          2   \n",
       "9                                  Playing with rope      1          1   \n",
       "\n",
       "                                                body  \n",
       "0  [Pictures.](https://imgur.com/a/uafBlta) This ...  \n",
       "1                                                NaN  \n",
       "2  I have an idea to mount my HD antenna on a pol...  \n",
       "3                                                NaN  \n",
       "4                                                NaN  \n",
       "5                                                NaN  \n",
       "6                                                NaN  \n",
       "7                                                NaN  \n",
       "8  For reference, [photos can be found here](http...  \n",
       "9                                                NaN  "
      ]
     },
     "execution_count": 5,
     "metadata": {},
     "output_type": "execute_result"
    }
   ],
   "source": [
    "diy.head(10)"
   ]
  },
  {
   "cell_type": "code",
   "execution_count": 6,
   "metadata": {
    "scrolled": false
   },
   "outputs": [
    {
     "data": {
      "text/html": [
       "<div>\n",
       "<style scoped>\n",
       "    .dataframe tbody tr th:only-of-type {\n",
       "        vertical-align: middle;\n",
       "    }\n",
       "\n",
       "    .dataframe tbody tr th {\n",
       "        vertical-align: top;\n",
       "    }\n",
       "\n",
       "    .dataframe thead th {\n",
       "        text-align: right;\n",
       "    }\n",
       "</style>\n",
       "<table border=\"1\" class=\"dataframe\">\n",
       "  <thead>\n",
       "    <tr style=\"text-align: right;\">\n",
       "      <th></th>\n",
       "      <th>title</th>\n",
       "      <th>score</th>\n",
       "      <th>comms_num</th>\n",
       "      <th>body</th>\n",
       "    </tr>\n",
       "  </thead>\n",
       "  <tbody>\n",
       "    <tr>\n",
       "      <td>0</td>\n",
       "      <td>Im trying to make octopuses catch on as a Chri...</td>\n",
       "      <td>5</td>\n",
       "      <td>0</td>\n",
       "      <td>NaN</td>\n",
       "    </tr>\n",
       "    <tr>\n",
       "      <td>1</td>\n",
       "      <td>My finace is a drummer, I made this for him ou...</td>\n",
       "      <td>7</td>\n",
       "      <td>1</td>\n",
       "      <td>NaN</td>\n",
       "    </tr>\n",
       "    <tr>\n",
       "      <td>2</td>\n",
       "      <td>[VIDEO] Which Silk Thread to Use for Blackwork...</td>\n",
       "      <td>2</td>\n",
       "      <td>0</td>\n",
       "      <td>NaN</td>\n",
       "    </tr>\n",
       "    <tr>\n",
       "      <td>3</td>\n",
       "      <td>Topiary of fruits and flowers: master class. T...</td>\n",
       "      <td>0</td>\n",
       "      <td>0</td>\n",
       "      <td>NaN</td>\n",
       "    </tr>\n",
       "    <tr>\n",
       "      <td>4</td>\n",
       "      <td>DIY Topiary tree with artificial fruit and flo...</td>\n",
       "      <td>0</td>\n",
       "      <td>1</td>\n",
       "      <td>NaN</td>\n",
       "    </tr>\n",
       "    <tr>\n",
       "      <td>5</td>\n",
       "      <td>DIY Topiary tree with artificial fruit and flo...</td>\n",
       "      <td>0</td>\n",
       "      <td>2</td>\n",
       "      <td>NaN</td>\n",
       "    </tr>\n",
       "    <tr>\n",
       "      <td>6</td>\n",
       "      <td>A Pixie Scrap Cap I made my daughter. :)</td>\n",
       "      <td>3</td>\n",
       "      <td>0</td>\n",
       "      <td>NaN</td>\n",
       "    </tr>\n",
       "    <tr>\n",
       "      <td>7</td>\n",
       "      <td>I made a Witch hat from a thrifted jacket.</td>\n",
       "      <td>9</td>\n",
       "      <td>0</td>\n",
       "      <td>NaN</td>\n",
       "    </tr>\n",
       "    <tr>\n",
       "      <td>8</td>\n",
       "      <td>DIY Jewelry using foam sheets</td>\n",
       "      <td>1</td>\n",
       "      <td>0</td>\n",
       "      <td>Hello everyone i made DIY Earrings using foam ...</td>\n",
       "    </tr>\n",
       "    <tr>\n",
       "      <td>9</td>\n",
       "      <td>Thin rings. Material - acrylic stone</td>\n",
       "      <td>3</td>\n",
       "      <td>0</td>\n",
       "      <td>NaN</td>\n",
       "    </tr>\n",
       "  </tbody>\n",
       "</table>\n",
       "</div>"
      ],
      "text/plain": [
       "                                               title  score  comms_num  \\\n",
       "0  Im trying to make octopuses catch on as a Chri...      5          0   \n",
       "1  My finace is a drummer, I made this for him ou...      7          1   \n",
       "2  [VIDEO] Which Silk Thread to Use for Blackwork...      2          0   \n",
       "3  Topiary of fruits and flowers: master class. T...      0          0   \n",
       "4  DIY Topiary tree with artificial fruit and flo...      0          1   \n",
       "5  DIY Topiary tree with artificial fruit and flo...      0          2   \n",
       "6           A Pixie Scrap Cap I made my daughter. :)      3          0   \n",
       "7         I made a Witch hat from a thrifted jacket.      9          0   \n",
       "8                      DIY Jewelry using foam sheets      1          0   \n",
       "9               Thin rings. Material - acrylic stone      3          0   \n",
       "\n",
       "                                                body  \n",
       "0                                                NaN  \n",
       "1                                                NaN  \n",
       "2                                                NaN  \n",
       "3                                                NaN  \n",
       "4                                                NaN  \n",
       "5                                                NaN  \n",
       "6                                                NaN  \n",
       "7                                                NaN  \n",
       "8  Hello everyone i made DIY Earrings using foam ...  \n",
       "9                                                NaN  "
      ]
     },
     "execution_count": 6,
     "metadata": {},
     "output_type": "execute_result"
    }
   ],
   "source": [
    "crafts.head(10)"
   ]
  },
  {
   "cell_type": "markdown",
   "metadata": {},
   "source": [
    "### NaN values:\n",
    "- The **NaN** alues in the body column are from posts that linked to a photo or video\n",
    "- This was expected in data collection and they need to be filled with an empty string"
   ]
  },
  {
   "cell_type": "code",
   "execution_count": 8,
   "metadata": {},
   "outputs": [],
   "source": [
    "# filling all NaN values with empty strings for the body column\n",
    "diy.fillna('', inplace=True)\n",
    "crafts.fillna('', inplace=True)"
   ]
  },
  {
   "cell_type": "code",
   "execution_count": 257,
   "metadata": {
    "scrolled": true
   },
   "outputs": [
    {
     "name": "stdout",
     "output_type": "stream",
     "text": [
      "<class 'pandas.core.frame.DataFrame'>\n",
      "RangeIndex: 7500 entries, 0 to 7499\n",
      "Data columns (total 4 columns):\n",
      "title        7500 non-null object\n",
      "score        7500 non-null int64\n",
      "comms_num    7500 non-null int64\n",
      "body         7500 non-null object\n",
      "dtypes: int64(2), object(2)\n",
      "memory usage: 234.5+ KB\n",
      "<class 'pandas.core.frame.DataFrame'>\n",
      "RangeIndex: 7500 entries, 0 to 7499\n",
      "Data columns (total 4 columns):\n",
      "title        7500 non-null object\n",
      "score        7500 non-null int64\n",
      "comms_num    7500 non-null int64\n",
      "body         7500 non-null object\n",
      "dtypes: int64(2), object(2)\n",
      "memory usage: 234.5+ KB\n"
     ]
    }
   ],
   "source": [
    "crafts.info()\n",
    "diy.info()"
   ]
  },
  {
   "cell_type": "markdown",
   "metadata": {},
   "source": [
    "### Checking for blank bodies of text"
   ]
  },
  {
   "cell_type": "code",
   "execution_count": null,
   "metadata": {},
   "outputs": [],
   "source": [
    "len([1 for s in crafts['body'] if s== ''])/crafts.shape[0]"
   ]
  },
  {
   "cell_type": "code",
   "execution_count": null,
   "metadata": {},
   "outputs": [],
   "source": [
    "len([1 for s in diy['body'] if s== ''])/diy.shape[0]"
   ]
  },
  {
   "cell_type": "markdown",
   "metadata": {},
   "source": [
    "### Checking all deleted and removed posts\n",
    "------"
   ]
  },
  {
   "cell_type": "code",
   "execution_count": 258,
   "metadata": {
    "scrolled": true
   },
   "outputs": [
    {
     "data": {
      "text/plain": [
       "0.13386666666666666"
      ]
     },
     "execution_count": 258,
     "metadata": {},
     "output_type": "execute_result"
    }
   ],
   "source": [
    "len([1 for s in crafts['body'] if (s == '[removed]') | (s == '[deleted]')])/crafts.shape[0]"
   ]
  },
  {
   "cell_type": "code",
   "execution_count": 259,
   "metadata": {
    "scrolled": true
   },
   "outputs": [
    {
     "data": {
      "text/plain": [
       "0.4"
      ]
     },
     "execution_count": 259,
     "metadata": {},
     "output_type": "execute_result"
    }
   ],
   "source": [
    "len([1 for s in diy['body'] if (s == '[removed]') | (s == '[deleted]')])/diy.shape[0]"
   ]
  },
  {
   "cell_type": "markdown",
   "metadata": {},
   "source": [
    "I noted that the crafts subreddit had a much larger proportion of blank bodies of text. Here we see that a similar rate of posts from DIY were removed or deleted. While deleting all of them would be justified, this would create a deeply unbalanced class.In order to maintain a fairly balanced class, I will delete all the posts from DIY but keep the deleted ones. Then I will remove both the removed and deleted posts from crafts. Then I will combine the titles with the bodies to create a text columns."
   ]
  },
  {
   "cell_type": "code",
   "execution_count": 260,
   "metadata": {},
   "outputs": [
    {
     "name": "stderr",
     "output_type": "stream",
     "text": [
      "C:\\Users\\Owner\\Anaconda3\\lib\\site-packages\\ipykernel_launcher.py:5: SettingWithCopyWarning: \n",
      "A value is trying to be set on a copy of a slice from a DataFrame\n",
      "\n",
      "See the caveats in the documentation: http://pandas.pydata.org/pandas-docs/stable/user_guide/indexing.html#returning-a-view-versus-a-copy\n",
      "  \"\"\"\n"
     ]
    }
   ],
   "source": [
    "for i, string in enumerate(diy['body']):\n",
    "    if (string == '[removed]'):\n",
    "        diy.drop(i, inplace=True)\n",
    "    elif (string == '[deleted]'):\n",
    "        diy['body'][i] = ''"
   ]
  },
  {
   "cell_type": "code",
   "execution_count": 261,
   "metadata": {
    "scrolled": true
   },
   "outputs": [],
   "source": [
    "for i, string in enumerate(crafts['body']):\n",
    "    if (string == '[removed]'):\n",
    "        crafts.drop(i, inplace=True)\n",
    "    elif (string == '[deleted]'):\n",
    "        crafts.drop(i, inplace=True)"
   ]
  },
  {
   "cell_type": "code",
   "execution_count": 262,
   "metadata": {},
   "outputs": [
    {
     "data": {
      "text/html": [
       "<div>\n",
       "<style scoped>\n",
       "    .dataframe tbody tr th:only-of-type {\n",
       "        vertical-align: middle;\n",
       "    }\n",
       "\n",
       "    .dataframe tbody tr th {\n",
       "        vertical-align: top;\n",
       "    }\n",
       "\n",
       "    .dataframe thead th {\n",
       "        text-align: right;\n",
       "    }\n",
       "</style>\n",
       "<table border=\"1\" class=\"dataframe\">\n",
       "  <thead>\n",
       "    <tr style=\"text-align: right;\">\n",
       "      <th></th>\n",
       "      <th>title</th>\n",
       "      <th>score</th>\n",
       "      <th>comms_num</th>\n",
       "      <th>body</th>\n",
       "    </tr>\n",
       "  </thead>\n",
       "  <tbody>\n",
       "    <tr>\n",
       "      <td>0</td>\n",
       "      <td>Badly damaged exterior wall studs, is this out...</td>\n",
       "      <td>2</td>\n",
       "      <td>0</td>\n",
       "      <td>[Pictures.](https://imgur.com/a/uafBlta) This ...</td>\n",
       "    </tr>\n",
       "    <tr>\n",
       "      <td>1</td>\n",
       "      <td>Need help removing a screw from the back of a ...</td>\n",
       "      <td>1</td>\n",
       "      <td>1</td>\n",
       "      <td></td>\n",
       "    </tr>\n",
       "    <tr>\n",
       "      <td>2</td>\n",
       "      <td>Add second post parallel to existing post</td>\n",
       "      <td>1</td>\n",
       "      <td>0</td>\n",
       "      <td>I have an idea to mount my HD antenna on a pol...</td>\n",
       "    </tr>\n",
       "    <tr>\n",
       "      <td>3</td>\n",
       "      <td>rtyuiooopfghjkl</td>\n",
       "      <td>1</td>\n",
       "      <td>0</td>\n",
       "      <td></td>\n",
       "    </tr>\n",
       "    <tr>\n",
       "      <td>4</td>\n",
       "      <td>DIY - recycled vinyl record clock</td>\n",
       "      <td>1</td>\n",
       "      <td>1</td>\n",
       "      <td></td>\n",
       "    </tr>\n",
       "    <tr>\n",
       "      <td>...</td>\n",
       "      <td>...</td>\n",
       "      <td>...</td>\n",
       "      <td>...</td>\n",
       "      <td>...</td>\n",
       "    </tr>\n",
       "    <tr>\n",
       "      <td>5576</td>\n",
       "      <td>Help- how can I fix/hide these holes in my flo...</td>\n",
       "      <td>1</td>\n",
       "      <td>1</td>\n",
       "      <td></td>\n",
       "    </tr>\n",
       "    <tr>\n",
       "      <td>5577</td>\n",
       "      <td>How do fix this?</td>\n",
       "      <td>1</td>\n",
       "      <td>1</td>\n",
       "      <td></td>\n",
       "    </tr>\n",
       "    <tr>\n",
       "      <td>5578</td>\n",
       "      <td>Learn cooking and making sweet Learn how to ma...</td>\n",
       "      <td>1</td>\n",
       "      <td>1</td>\n",
       "      <td></td>\n",
       "    </tr>\n",
       "    <tr>\n",
       "      <td>5579</td>\n",
       "      <td>Cats scratching wood bay window platform - Cov...</td>\n",
       "      <td>1</td>\n",
       "      <td>1</td>\n",
       "      <td></td>\n",
       "    </tr>\n",
       "    <tr>\n",
       "      <td>5580</td>\n",
       "      <td>DIY</td>\n",
       "      <td>1</td>\n",
       "      <td>2</td>\n",
       "      <td></td>\n",
       "    </tr>\n",
       "  </tbody>\n",
       "</table>\n",
       "<p>5581 rows × 4 columns</p>\n",
       "</div>"
      ],
      "text/plain": [
       "                                                  title  score  comms_num  \\\n",
       "0     Badly damaged exterior wall studs, is this out...      2          0   \n",
       "1     Need help removing a screw from the back of a ...      1          1   \n",
       "2             Add second post parallel to existing post      1          0   \n",
       "3                                       rtyuiooopfghjkl      1          0   \n",
       "4                     DIY - recycled vinyl record clock      1          1   \n",
       "...                                                 ...    ...        ...   \n",
       "5576  Help- how can I fix/hide these holes in my flo...      1          1   \n",
       "5577                                   How do fix this?      1          1   \n",
       "5578  Learn cooking and making sweet Learn how to ma...      1          1   \n",
       "5579  Cats scratching wood bay window platform - Cov...      1          1   \n",
       "5580                                                DIY      1          2   \n",
       "\n",
       "                                                   body  \n",
       "0     [Pictures.](https://imgur.com/a/uafBlta) This ...  \n",
       "1                                                        \n",
       "2     I have an idea to mount my HD antenna on a pol...  \n",
       "3                                                        \n",
       "4                                                        \n",
       "...                                                 ...  \n",
       "5576                                                     \n",
       "5577                                                     \n",
       "5578                                                     \n",
       "5579                                                     \n",
       "5580                                                     \n",
       "\n",
       "[5581 rows x 4 columns]"
      ]
     },
     "execution_count": 262,
     "metadata": {},
     "output_type": "execute_result"
    }
   ],
   "source": [
    "diy.reset_index(inplace=True)\n",
    "diy.drop(columns='index', inplace=True)\n",
    "diy\n"
   ]
  },
  {
   "cell_type": "code",
   "execution_count": 263,
   "metadata": {},
   "outputs": [
    {
     "data": {
      "text/html": [
       "<div>\n",
       "<style scoped>\n",
       "    .dataframe tbody tr th:only-of-type {\n",
       "        vertical-align: middle;\n",
       "    }\n",
       "\n",
       "    .dataframe tbody tr th {\n",
       "        vertical-align: top;\n",
       "    }\n",
       "\n",
       "    .dataframe thead th {\n",
       "        text-align: right;\n",
       "    }\n",
       "</style>\n",
       "<table border=\"1\" class=\"dataframe\">\n",
       "  <thead>\n",
       "    <tr style=\"text-align: right;\">\n",
       "      <th></th>\n",
       "      <th>title</th>\n",
       "      <th>score</th>\n",
       "      <th>comms_num</th>\n",
       "      <th>body</th>\n",
       "    </tr>\n",
       "  </thead>\n",
       "  <tbody>\n",
       "    <tr>\n",
       "      <td>0</td>\n",
       "      <td>Im trying to make octopuses catch on as a Chri...</td>\n",
       "      <td>5</td>\n",
       "      <td>0</td>\n",
       "      <td></td>\n",
       "    </tr>\n",
       "    <tr>\n",
       "      <td>1</td>\n",
       "      <td>My finace is a drummer, I made this for him ou...</td>\n",
       "      <td>7</td>\n",
       "      <td>1</td>\n",
       "      <td></td>\n",
       "    </tr>\n",
       "    <tr>\n",
       "      <td>2</td>\n",
       "      <td>[VIDEO] Which Silk Thread to Use for Blackwork...</td>\n",
       "      <td>2</td>\n",
       "      <td>0</td>\n",
       "      <td></td>\n",
       "    </tr>\n",
       "    <tr>\n",
       "      <td>3</td>\n",
       "      <td>Topiary of fruits and flowers: master class. T...</td>\n",
       "      <td>0</td>\n",
       "      <td>0</td>\n",
       "      <td></td>\n",
       "    </tr>\n",
       "    <tr>\n",
       "      <td>4</td>\n",
       "      <td>DIY Topiary tree with artificial fruit and flo...</td>\n",
       "      <td>0</td>\n",
       "      <td>1</td>\n",
       "      <td></td>\n",
       "    </tr>\n",
       "    <tr>\n",
       "      <td>...</td>\n",
       "      <td>...</td>\n",
       "      <td>...</td>\n",
       "      <td>...</td>\n",
       "      <td>...</td>\n",
       "    </tr>\n",
       "    <tr>\n",
       "      <td>6491</td>\n",
       "      <td>Swipe Acrylic Pour On Canvas Panel #25</td>\n",
       "      <td>0</td>\n",
       "      <td>0</td>\n",
       "      <td></td>\n",
       "    </tr>\n",
       "    <tr>\n",
       "      <td>6492</td>\n",
       "      <td>Im trying to get my awesome husband to believe...</td>\n",
       "      <td>667</td>\n",
       "      <td>39</td>\n",
       "      <td></td>\n",
       "    </tr>\n",
       "    <tr>\n",
       "      <td>6493</td>\n",
       "      <td>flower vase with glass bottle</td>\n",
       "      <td>3</td>\n",
       "      <td>0</td>\n",
       "      <td></td>\n",
       "    </tr>\n",
       "    <tr>\n",
       "      <td>6494</td>\n",
       "      <td>Crochet lalylala dolls</td>\n",
       "      <td>34</td>\n",
       "      <td>3</td>\n",
       "      <td></td>\n",
       "    </tr>\n",
       "    <tr>\n",
       "      <td>6495</td>\n",
       "      <td>My first ever embroidery for my boyfriend of h...</td>\n",
       "      <td>47</td>\n",
       "      <td>4</td>\n",
       "      <td></td>\n",
       "    </tr>\n",
       "  </tbody>\n",
       "</table>\n",
       "<p>6496 rows × 4 columns</p>\n",
       "</div>"
      ],
      "text/plain": [
       "                                                  title  score  comms_num body\n",
       "0     Im trying to make octopuses catch on as a Chri...      5          0     \n",
       "1     My finace is a drummer, I made this for him ou...      7          1     \n",
       "2     [VIDEO] Which Silk Thread to Use for Blackwork...      2          0     \n",
       "3     Topiary of fruits and flowers: master class. T...      0          0     \n",
       "4     DIY Topiary tree with artificial fruit and flo...      0          1     \n",
       "...                                                 ...    ...        ...  ...\n",
       "6491             Swipe Acrylic Pour On Canvas Panel #25      0          0     \n",
       "6492  Im trying to get my awesome husband to believe...    667         39     \n",
       "6493                      flower vase with glass bottle      3          0     \n",
       "6494                             Crochet lalylala dolls     34          3     \n",
       "6495  My first ever embroidery for my boyfriend of h...     47          4     \n",
       "\n",
       "[6496 rows x 4 columns]"
      ]
     },
     "execution_count": 263,
     "metadata": {},
     "output_type": "execute_result"
    }
   ],
   "source": [
    "crafts.reset_index(inplace=True)\n",
    "crafts.drop(columns='index', inplace=True)\n",
    "crafts"
   ]
  },
  {
   "cell_type": "markdown",
   "metadata": {},
   "source": [
    "## Decisions:\n",
    "- I'll leave in the rows with blank body text as I will only be grabbing about 20% of whatever data I gather.\n",
    "- Then I'll combine the title and the body to produce a description column"
   ]
  },
  {
   "cell_type": "code",
   "execution_count": 265,
   "metadata": {},
   "outputs": [],
   "source": [
    "# combining the body and title columns\n",
    "\n",
    "diy['text'] = diy['title'] + ' ' + diy['body']\n",
    "\n",
    "crafts['text'] = crafts['title'] + ' ' + crafts['body']"
   ]
  },
  {
   "cell_type": "markdown",
   "metadata": {},
   "source": [
    "## Deep scrubbing the data:\n",
    "1. Get rid of special characters or characters that will prevent matching\n",
    "2. find repetative posts that are worth deleting"
   ]
  },
  {
   "cell_type": "code",
   "execution_count": 266,
   "metadata": {},
   "outputs": [
    {
     "name": "stderr",
     "output_type": "stream",
     "text": [
      "C:\\Users\\Owner\\Anaconda3\\lib\\site-packages\\ipykernel_launcher.py:21: SettingWithCopyWarning: \n",
      "A value is trying to be set on a copy of a slice from a DataFrame\n",
      "\n",
      "See the caveats in the documentation: http://pandas.pydata.org/pandas-docs/stable/user_guide/indexing.html#returning-a-view-versus-a-copy\n"
     ]
    },
    {
     "data": {
      "text/html": [
       "<div>\n",
       "<style scoped>\n",
       "    .dataframe tbody tr th:only-of-type {\n",
       "        vertical-align: middle;\n",
       "    }\n",
       "\n",
       "    .dataframe tbody tr th {\n",
       "        vertical-align: top;\n",
       "    }\n",
       "\n",
       "    .dataframe thead th {\n",
       "        text-align: right;\n",
       "    }\n",
       "</style>\n",
       "<table border=\"1\" class=\"dataframe\">\n",
       "  <thead>\n",
       "    <tr style=\"text-align: right;\">\n",
       "      <th></th>\n",
       "      <th>title</th>\n",
       "      <th>score</th>\n",
       "      <th>comms_num</th>\n",
       "      <th>body</th>\n",
       "      <th>text</th>\n",
       "    </tr>\n",
       "  </thead>\n",
       "  <tbody>\n",
       "    <tr>\n",
       "      <td>0</td>\n",
       "      <td>Badly damaged exterior wall studs, is this out...</td>\n",
       "      <td>2</td>\n",
       "      <td>0</td>\n",
       "      <td>[Pictures.](https://imgur.com/a/uafBlta) This ...</td>\n",
       "      <td>badly damaged exterior wall studs is this out ...</td>\n",
       "    </tr>\n",
       "    <tr>\n",
       "      <td>1</td>\n",
       "      <td>Need help removing a screw from the back of a ...</td>\n",
       "      <td>1</td>\n",
       "      <td>1</td>\n",
       "      <td></td>\n",
       "      <td>need help removing a screw from the back of a ...</td>\n",
       "    </tr>\n",
       "    <tr>\n",
       "      <td>2</td>\n",
       "      <td>Add second post parallel to existing post</td>\n",
       "      <td>1</td>\n",
       "      <td>0</td>\n",
       "      <td>I have an idea to mount my HD antenna on a pol...</td>\n",
       "      <td>add second post parallel to existing post i ha...</td>\n",
       "    </tr>\n",
       "    <tr>\n",
       "      <td>3</td>\n",
       "      <td>rtyuiooopfghjkl</td>\n",
       "      <td>1</td>\n",
       "      <td>0</td>\n",
       "      <td></td>\n",
       "      <td>rtyuiooopfghjkl</td>\n",
       "    </tr>\n",
       "    <tr>\n",
       "      <td>4</td>\n",
       "      <td>DIY - recycled vinyl record clock</td>\n",
       "      <td>1</td>\n",
       "      <td>1</td>\n",
       "      <td></td>\n",
       "      <td>diy - recycled vinyl record clock</td>\n",
       "    </tr>\n",
       "  </tbody>\n",
       "</table>\n",
       "</div>"
      ],
      "text/plain": [
       "                                               title  score  comms_num  \\\n",
       "0  Badly damaged exterior wall studs, is this out...      2          0   \n",
       "1  Need help removing a screw from the back of a ...      1          1   \n",
       "2          Add second post parallel to existing post      1          0   \n",
       "3                                    rtyuiooopfghjkl      1          0   \n",
       "4                  DIY - recycled vinyl record clock      1          1   \n",
       "\n",
       "                                                body  \\\n",
       "0  [Pictures.](https://imgur.com/a/uafBlta) This ...   \n",
       "1                                                      \n",
       "2  I have an idea to mount my HD antenna on a pol...   \n",
       "3                                                      \n",
       "4                                                      \n",
       "\n",
       "                                                text  \n",
       "0  badly damaged exterior wall studs is this out ...  \n",
       "1  need help removing a screw from the back of a ...  \n",
       "2  add second post parallel to existing post i ha...  \n",
       "3                                    rtyuiooopfghjkl  \n",
       "4                  diy - recycled vinyl record clock  "
      ]
     },
     "execution_count": 266,
     "metadata": {},
     "output_type": "execute_result"
    }
   ],
   "source": [
    "# clean the text of punctuation\n",
    "\n",
    "tokenizer = RegexpTokenizer('\\s+', gaps=True)\n",
    "\n",
    "for i in range(diy.shape[0]):\n",
    "    text = diy['text'][i]\n",
    "    tokens = tokenizer.tokenize(text)\n",
    "    clean_tokens = []\n",
    "    for token in tokens:\n",
    "        token = token.replace(\",\", \n",
    "                      \"\").replace(\"?\", \n",
    "                        \"\").replace(\"!\", \n",
    "                          \"\").replace(\"'\", \n",
    "                            \"\").replace(\".\",\n",
    "                              \"\").replace(\"\\'t\", \n",
    "                               \"\").lower()\n",
    "        clean_tokens.append(token)\n",
    "\n",
    "    seperator = ' '\n",
    "    diy['text'][i] = seperator.join(clean_tokens)\n",
    "diy.head()\n"
   ]
  },
  {
   "cell_type": "code",
   "execution_count": 267,
   "metadata": {
    "scrolled": false
   },
   "outputs": [
    {
     "name": "stderr",
     "output_type": "stream",
     "text": [
      "C:\\Users\\Owner\\Anaconda3\\lib\\site-packages\\ipykernel_launcher.py:18: SettingWithCopyWarning: \n",
      "A value is trying to be set on a copy of a slice from a DataFrame\n",
      "\n",
      "See the caveats in the documentation: http://pandas.pydata.org/pandas-docs/stable/user_guide/indexing.html#returning-a-view-versus-a-copy\n"
     ]
    },
    {
     "data": {
      "text/html": [
       "<div>\n",
       "<style scoped>\n",
       "    .dataframe tbody tr th:only-of-type {\n",
       "        vertical-align: middle;\n",
       "    }\n",
       "\n",
       "    .dataframe tbody tr th {\n",
       "        vertical-align: top;\n",
       "    }\n",
       "\n",
       "    .dataframe thead th {\n",
       "        text-align: right;\n",
       "    }\n",
       "</style>\n",
       "<table border=\"1\" class=\"dataframe\">\n",
       "  <thead>\n",
       "    <tr style=\"text-align: right;\">\n",
       "      <th></th>\n",
       "      <th>title</th>\n",
       "      <th>score</th>\n",
       "      <th>comms_num</th>\n",
       "      <th>body</th>\n",
       "      <th>text</th>\n",
       "    </tr>\n",
       "  </thead>\n",
       "  <tbody>\n",
       "    <tr>\n",
       "      <td>0</td>\n",
       "      <td>Im trying to make octopuses catch on as a Chri...</td>\n",
       "      <td>5</td>\n",
       "      <td>0</td>\n",
       "      <td></td>\n",
       "      <td>im trying to make octopuses catch on as a chri...</td>\n",
       "    </tr>\n",
       "    <tr>\n",
       "      <td>1</td>\n",
       "      <td>My finace is a drummer, I made this for him ou...</td>\n",
       "      <td>7</td>\n",
       "      <td>1</td>\n",
       "      <td></td>\n",
       "      <td>my finace is a drummer i made this for him out...</td>\n",
       "    </tr>\n",
       "    <tr>\n",
       "      <td>2</td>\n",
       "      <td>[VIDEO] Which Silk Thread to Use for Blackwork...</td>\n",
       "      <td>2</td>\n",
       "      <td>0</td>\n",
       "      <td></td>\n",
       "      <td>[video] which silk thread to use for blackwork...</td>\n",
       "    </tr>\n",
       "    <tr>\n",
       "      <td>3</td>\n",
       "      <td>Topiary of fruits and flowers: master class. T...</td>\n",
       "      <td>0</td>\n",
       "      <td>0</td>\n",
       "      <td></td>\n",
       "      <td>topiary of fruits and flowers: master class to...</td>\n",
       "    </tr>\n",
       "    <tr>\n",
       "      <td>4</td>\n",
       "      <td>DIY Topiary tree with artificial fruit and flo...</td>\n",
       "      <td>0</td>\n",
       "      <td>1</td>\n",
       "      <td></td>\n",
       "      <td>diy topiary tree with artificial fruit and flo...</td>\n",
       "    </tr>\n",
       "  </tbody>\n",
       "</table>\n",
       "</div>"
      ],
      "text/plain": [
       "                                               title  score  comms_num body  \\\n",
       "0  Im trying to make octopuses catch on as a Chri...      5          0        \n",
       "1  My finace is a drummer, I made this for him ou...      7          1        \n",
       "2  [VIDEO] Which Silk Thread to Use for Blackwork...      2          0        \n",
       "3  Topiary of fruits and flowers: master class. T...      0          0        \n",
       "4  DIY Topiary tree with artificial fruit and flo...      0          1        \n",
       "\n",
       "                                                text  \n",
       "0  im trying to make octopuses catch on as a chri...  \n",
       "1  my finace is a drummer i made this for him out...  \n",
       "2  [video] which silk thread to use for blackwork...  \n",
       "3  topiary of fruits and flowers: master class to...  \n",
       "4  diy topiary tree with artificial fruit and flo...  "
      ]
     },
     "execution_count": 267,
     "metadata": {},
     "output_type": "execute_result"
    }
   ],
   "source": [
    "for i in range(crafts.shape[0]):\n",
    "    \n",
    "    text = crafts['text'][i]\n",
    "    tokens = tokenizer.tokenize(text)\n",
    "    clean_tokens = []\n",
    "    \n",
    "    for token in tokens:\n",
    "        token = token.replace(\",\",             # removing emotionally neutral punctuation\n",
    "                      \"\").replace(\".\", \n",
    "                        \"\").replace(\"'\", \n",
    "                          \"\").replace(\"!\",     # separating and leaving in contextual punctuation\n",
    "                            \" ! \").replace(\"?\",\n",
    "                              \" ? \").lower()\n",
    "        if not '/imgurcom/' in token:\n",
    "            clean_tokens.append(token)\n",
    "\n",
    "    seperator = ' '\n",
    "    crafts['text'][i] = seperator.join(clean_tokens)\n",
    "crafts.head()"
   ]
  },
  {
   "cell_type": "markdown",
   "metadata": {},
   "source": [
    "now that the text has been cleaned and striped of a majority of the special"
   ]
  },
  {
   "cell_type": "code",
   "execution_count": 268,
   "metadata": {},
   "outputs": [],
   "source": [
    "# dropping the columns to reduce the redundancy of the columns\n",
    "clean_diy = diy.drop(columns=['title', 'body'])\n",
    "clean_crafts = crafts.drop(columns=['title', 'body'])\n",
    "\n",
    "# making the target prediction variable\n",
    "clean_crafts['is_craft'] = 1\n",
    "clean_diy['is_craft'] = 0\n",
    "\n",
    "combined = pd.concat((clean_diy, clean_crafts))\n",
    "combined.head()"
   ]
  },
  {
   "cell_type": "markdown",
   "metadata": {},
   "source": [
    "After further reflection into the data, it would be important to drop posts that were repeating as it suggests\n",
    "\n",
    "I will also be dropping the score and comms_nums as I'd like to keep this project explicitely focused on NLP."
   ]
  },
  {
   "cell_type": "code",
   "execution_count": 271,
   "metadata": {},
   "outputs": [],
   "source": [
    "combined.drop(columns=['score', 'comms_num'], inplace=True)"
   ]
  },
  {
   "cell_type": "code",
   "execution_count": 272,
   "metadata": {
    "scrolled": true
   },
   "outputs": [
    {
     "data": {
      "text/plain": [
       "12077"
      ]
     },
     "execution_count": 272,
     "metadata": {},
     "output_type": "execute_result"
    }
   ],
   "source": [
    "combined.shape[0]"
   ]
  },
  {
   "cell_type": "code",
   "execution_count": 273,
   "metadata": {},
   "outputs": [
    {
     "data": {
      "text/plain": [
       "323"
      ]
     },
     "execution_count": 273,
     "metadata": {},
     "output_type": "execute_result"
    }
   ],
   "source": [
    "duplicates = []\n",
    "for post in set(combined.text):\n",
    "    if list(combined['text']).count(post) > 1:\n",
    "        duplicates.append(post)\n",
    "len(duplicates)"
   ]
  },
  {
   "cell_type": "markdown",
   "metadata": {},
   "source": [
    "seems that not all of the duplicates are worth deleting. I will narrow down the list manually starting with the shortest titles"
   ]
  },
  {
   "cell_type": "code",
   "execution_count": 274,
   "metadata": {},
   "outputs": [
    {
     "data": {
      "text/plain": [
       "['',\n",
       " 'youtube',\n",
       " 'home decor',\n",
       " 'chester',\n",
       " ' ',\n",
       " 'paper leaves',\n",
       " 'god of cod',\n",
       " 'diy',\n",
       " 'cardboard',\n",
       " '->:@db2580',\n",
       " 'gate upgrade',\n",
       " 'paper flower',\n",
       " ':',\n",
       " 'pdf pattern']"
      ]
     },
     "execution_count": 274,
     "metadata": {},
     "output_type": "execute_result"
    }
   ],
   "source": [
    "delete = []\n",
    "\n",
    "for dup in duplicates:\n",
    "    if len(dup) < 13:\n",
    "        delete.append(dup)\n",
    "        \n",
    "delete"
   ]
  },
  {
   "cell_type": "code",
   "execution_count": 275,
   "metadata": {},
   "outputs": [],
   "source": [
    "delete = ['','youtube', ':', ' ', 'diy', '->:@db2580', '    ', '         ', ': : : : :']"
   ]
  },
  {
   "cell_type": "code",
   "execution_count": 276,
   "metadata": {},
   "outputs": [
    {
     "data": {
      "text/plain": [
       "12077"
      ]
     },
     "execution_count": 276,
     "metadata": {},
     "output_type": "execute_result"
    }
   ],
   "source": [
    "combined.shape[0]"
   ]
  },
  {
   "cell_type": "code",
   "execution_count": 277,
   "metadata": {},
   "outputs": [],
   "source": [
    "for text in delete:\n",
    "    combined.drop(combined.loc[combined['text'] == text].index, inplace=True)"
   ]
  },
  {
   "cell_type": "code",
   "execution_count": 278,
   "metadata": {},
   "outputs": [
    {
     "data": {
      "text/plain": [
       "11987"
      ]
     },
     "execution_count": 278,
     "metadata": {},
     "output_type": "execute_result"
    }
   ],
   "source": [
    "combined.shape[0]"
   ]
  },
  {
   "cell_type": "code",
   "execution_count": 279,
   "metadata": {},
   "outputs": [
    {
     "data": {
      "text/html": [
       "<div>\n",
       "<style scoped>\n",
       "    .dataframe tbody tr th:only-of-type {\n",
       "        vertical-align: middle;\n",
       "    }\n",
       "\n",
       "    .dataframe tbody tr th {\n",
       "        vertical-align: top;\n",
       "    }\n",
       "\n",
       "    .dataframe thead th {\n",
       "        text-align: right;\n",
       "    }\n",
       "</style>\n",
       "<table border=\"1\" class=\"dataframe\">\n",
       "  <thead>\n",
       "    <tr style=\"text-align: right;\">\n",
       "      <th></th>\n",
       "      <th>text</th>\n",
       "      <th>is_craft</th>\n",
       "    </tr>\n",
       "  </thead>\n",
       "  <tbody>\n",
       "    <tr>\n",
       "      <td>0</td>\n",
       "      <td>badly damaged exterior wall studs is this out ...</td>\n",
       "      <td>0</td>\n",
       "    </tr>\n",
       "    <tr>\n",
       "      <td>1</td>\n",
       "      <td>need help removing a screw from the back of a ...</td>\n",
       "      <td>0</td>\n",
       "    </tr>\n",
       "    <tr>\n",
       "      <td>2</td>\n",
       "      <td>add second post parallel to existing post i ha...</td>\n",
       "      <td>0</td>\n",
       "    </tr>\n",
       "    <tr>\n",
       "      <td>3</td>\n",
       "      <td>rtyuiooopfghjkl</td>\n",
       "      <td>0</td>\n",
       "    </tr>\n",
       "    <tr>\n",
       "      <td>4</td>\n",
       "      <td>diy - recycled vinyl record clock</td>\n",
       "      <td>0</td>\n",
       "    </tr>\n",
       "    <tr>\n",
       "      <td>...</td>\n",
       "      <td>...</td>\n",
       "      <td>...</td>\n",
       "    </tr>\n",
       "    <tr>\n",
       "      <td>11982</td>\n",
       "      <td>swipe acrylic pour on canvas panel #25</td>\n",
       "      <td>1</td>\n",
       "    </tr>\n",
       "    <tr>\n",
       "      <td>11983</td>\n",
       "      <td>im trying to get my awesome husband to believe...</td>\n",
       "      <td>1</td>\n",
       "    </tr>\n",
       "    <tr>\n",
       "      <td>11984</td>\n",
       "      <td>flower vase with glass bottle</td>\n",
       "      <td>1</td>\n",
       "    </tr>\n",
       "    <tr>\n",
       "      <td>11985</td>\n",
       "      <td>crochet lalylala dolls</td>\n",
       "      <td>1</td>\n",
       "    </tr>\n",
       "    <tr>\n",
       "      <td>11986</td>\n",
       "      <td>my first ever embroidery for my boyfriend of h...</td>\n",
       "      <td>1</td>\n",
       "    </tr>\n",
       "  </tbody>\n",
       "</table>\n",
       "<p>11987 rows × 2 columns</p>\n",
       "</div>"
      ],
      "text/plain": [
       "                                                    text  is_craft\n",
       "0      badly damaged exterior wall studs is this out ...         0\n",
       "1      need help removing a screw from the back of a ...         0\n",
       "2      add second post parallel to existing post i ha...         0\n",
       "3                                        rtyuiooopfghjkl         0\n",
       "4                      diy - recycled vinyl record clock         0\n",
       "...                                                  ...       ...\n",
       "11982             swipe acrylic pour on canvas panel #25         1\n",
       "11983  im trying to get my awesome husband to believe...         1\n",
       "11984                      flower vase with glass bottle         1\n",
       "11985                             crochet lalylala dolls         1\n",
       "11986  my first ever embroidery for my boyfriend of h...         1\n",
       "\n",
       "[11987 rows x 2 columns]"
      ]
     },
     "execution_count": 279,
     "metadata": {},
     "output_type": "execute_result"
    }
   ],
   "source": [
    "combined.reset_index(inplace=True)\n",
    "combined.drop(columns='index', inplace=True)\n",
    "combined"
   ]
  },
  {
   "cell_type": "markdown",
   "metadata": {},
   "source": [
    "I think this is the most clean I can have the data set. I need to check for unbalanced classes"
   ]
  },
  {
   "cell_type": "code",
   "execution_count": 280,
   "metadata": {
    "scrolled": false
   },
   "outputs": [
    {
     "data": {
      "text/plain": [
       "1    0.538166\n",
       "0    0.461834\n",
       "Name: is_craft, dtype: float64"
      ]
     },
     "execution_count": 280,
     "metadata": {},
     "output_type": "execute_result"
    }
   ],
   "source": [
    "combined['is_craft'].value_counts(normalize=True)"
   ]
  },
  {
   "cell_type": "code",
   "execution_count": 281,
   "metadata": {},
   "outputs": [],
   "source": [
    "# # saving the cleaned files seperately before combining\n",
    "\n",
    "clean_crafts = combined[combined['is_craft'] == 1]\n",
    "clean_diy = combined[combined['is_craft'] == 0]\n",
    "\n",
    "clean_crafts.to_csv('cleaned files/clean_crafts.csv', index=False)\n",
    "clean_diy.to_csv('cleaned files/clean_diy.csv', index=False)"
   ]
  },
  {
   "cell_type": "code",
   "execution_count": 282,
   "metadata": {},
   "outputs": [],
   "source": [
    "# saving final to csv\n",
    "combined.to_csv('cleaned files/combined.csv')"
   ]
  }
 ],
 "metadata": {
  "kernelspec": {
   "display_name": "Python 3",
   "language": "python",
   "name": "python3"
  },
  "language_info": {
   "codemirror_mode": {
    "name": "ipython",
    "version": 3
   },
   "file_extension": ".py",
   "mimetype": "text/x-python",
   "name": "python",
   "nbconvert_exporter": "python",
   "pygments_lexer": "ipython3",
   "version": "3.7.3"
  }
 },
 "nbformat": 4,
 "nbformat_minor": 2
}
